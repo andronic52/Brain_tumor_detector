{
 "cells": [
  {
   "cell_type": "code",
   "id": "initial_id",
   "metadata": {
    "collapsed": true,
    "ExecuteTime": {
     "end_time": "2024-04-07T15:52:38.635064Z",
     "start_time": "2024-04-07T15:52:38.622462Z"
    }
   },
   "source": [
    "from PIL import Image\n",
    "import numpy as np"
   ],
   "outputs": [],
   "execution_count": 25
  },
  {
   "metadata": {
    "ExecuteTime": {
     "end_time": "2024-04-07T15:52:39.029798Z",
     "start_time": "2024-04-07T15:52:38.637064Z"
    }
   },
   "cell_type": "code",
   "source": [
    "from tensorflow.keras.models import Sequential\n",
    "from tensorflow.keras.layers import Conv2D, BatchNormalization, Activation, MaxPooling2D, Dropout, Flatten, Dense\n",
    "from tensorflow.keras.optimizers import Adam\n",
    "\n",
    "def create_model():\n",
    "    model = Sequential()\n",
    "\n",
    "    model.add(Conv2D(64, (3, 3), padding='same', input_shape=(224, 224, 3)))\n",
    "    model.add(BatchNormalization())\n",
    "    model.add(Activation('relu'))\n",
    "    model.add(MaxPooling2D(pool_size=(2, 2)))\n",
    "    model.add(Dropout(0.3))\n",
    "\n",
    "    model.add(Conv2D(128, (5, 5), padding='same'))\n",
    "    model.add(BatchNormalization())\n",
    "    model.add(Activation('relu'))\n",
    "    model.add(MaxPooling2D(pool_size=(2, 2)))\n",
    "    model.add(Dropout(0.3))\n",
    "\n",
    "    model.add(Conv2D(512, (3, 3), padding='same'))\n",
    "    model.add(BatchNormalization())\n",
    "    model.add(Activation('relu'))\n",
    "    model.add(MaxPooling2D(pool_size=(2, 2)))\n",
    "    model.add(Dropout(0.3))\n",
    "\n",
    "    model.add(Conv2D(512, (3, 3), padding='same'))\n",
    "    model.add(BatchNormalization())\n",
    "    model.add(Activation('relu'))\n",
    "    model.add(MaxPooling2D(pool_size=(2, 2)))\n",
    "    model.add(Dropout(0.3))\n",
    "\n",
    "    model.add(Flatten())\n",
    "\n",
    "    model.add(Dense(256))\n",
    "    model.add(BatchNormalization())\n",
    "    model.add(Activation('relu'))\n",
    "    model.add(Dropout(0.3))\n",
    "\n",
    "    model.add(Dense(512))\n",
    "    model.add(BatchNormalization())\n",
    "    model.add(Activation('relu'))\n",
    "    model.add(Dropout(0.3))\n",
    "\n",
    "    model.add(Dense(2, activation='softmax'))\n",
    "\n",
    "    opt = Adam(learning_rate=0.0005)\n",
    "    model.compile(optimizer=opt, loss='categorical_crossentropy', metrics=['accuracy'])\n",
    "\n",
    "    return model\n",
    "\n",
    "model = create_model()\n",
    "model.summary()"
   ],
   "id": "90cf35884e4891ba",
   "outputs": [
    {
     "name": "stdout",
     "output_type": "stream",
     "text": [
      "Model: \"sequential_4\"\n",
      "_________________________________________________________________\n",
      " Layer (type)                Output Shape              Param #   \n",
      "=================================================================\n",
      " conv2d_16 (Conv2D)          (None, 224, 224, 64)      1792      \n",
      "                                                                 \n",
      " batch_normalization_24 (Ba  (None, 224, 224, 64)      256       \n",
      " tchNormalization)                                               \n",
      "                                                                 \n",
      " activation_24 (Activation)  (None, 224, 224, 64)      0         \n",
      "                                                                 \n",
      " max_pooling2d_16 (MaxPooli  (None, 112, 112, 64)      0         \n",
      " ng2D)                                                           \n",
      "                                                                 \n",
      " dropout_24 (Dropout)        (None, 112, 112, 64)      0         \n",
      "                                                                 \n",
      " conv2d_17 (Conv2D)          (None, 112, 112, 128)     204928    \n",
      "                                                                 \n",
      " batch_normalization_25 (Ba  (None, 112, 112, 128)     512       \n",
      " tchNormalization)                                               \n",
      "                                                                 \n",
      " activation_25 (Activation)  (None, 112, 112, 128)     0         \n",
      "                                                                 \n",
      " max_pooling2d_17 (MaxPooli  (None, 56, 56, 128)       0         \n",
      " ng2D)                                                           \n",
      "                                                                 \n",
      " dropout_25 (Dropout)        (None, 56, 56, 128)       0         \n",
      "                                                                 \n",
      " conv2d_18 (Conv2D)          (None, 56, 56, 512)       590336    \n",
      "                                                                 \n",
      " batch_normalization_26 (Ba  (None, 56, 56, 512)       2048      \n",
      " tchNormalization)                                               \n",
      "                                                                 \n",
      " activation_26 (Activation)  (None, 56, 56, 512)       0         \n",
      "                                                                 \n",
      " max_pooling2d_18 (MaxPooli  (None, 28, 28, 512)       0         \n",
      " ng2D)                                                           \n",
      "                                                                 \n",
      " dropout_26 (Dropout)        (None, 28, 28, 512)       0         \n",
      "                                                                 \n",
      " conv2d_19 (Conv2D)          (None, 28, 28, 512)       2359808   \n",
      "                                                                 \n",
      " batch_normalization_27 (Ba  (None, 28, 28, 512)       2048      \n",
      " tchNormalization)                                               \n",
      "                                                                 \n",
      " activation_27 (Activation)  (None, 28, 28, 512)       0         \n",
      "                                                                 \n",
      " max_pooling2d_19 (MaxPooli  (None, 14, 14, 512)       0         \n",
      " ng2D)                                                           \n",
      "                                                                 \n",
      " dropout_27 (Dropout)        (None, 14, 14, 512)       0         \n",
      "                                                                 \n",
      " flatten_4 (Flatten)         (None, 100352)            0         \n",
      "                                                                 \n",
      " dense_12 (Dense)            (None, 256)               25690368  \n",
      "                                                                 \n",
      " batch_normalization_28 (Ba  (None, 256)               1024      \n",
      " tchNormalization)                                               \n",
      "                                                                 \n",
      " activation_28 (Activation)  (None, 256)               0         \n",
      "                                                                 \n",
      " dropout_28 (Dropout)        (None, 256)               0         \n",
      "                                                                 \n",
      " dense_13 (Dense)            (None, 512)               131584    \n",
      "                                                                 \n",
      " batch_normalization_29 (Ba  (None, 512)               2048      \n",
      " tchNormalization)                                               \n",
      "                                                                 \n",
      " activation_29 (Activation)  (None, 512)               0         \n",
      "                                                                 \n",
      " dropout_29 (Dropout)        (None, 512)               0         \n",
      "                                                                 \n",
      " dense_14 (Dense)            (None, 2)                 1026      \n",
      "                                                                 \n",
      "=================================================================\n",
      "Total params: 28987778 (110.58 MB)\n",
      "Trainable params: 28983810 (110.56 MB)\n",
      "Non-trainable params: 3968 (15.50 KB)\n",
      "_________________________________________________________________\n"
     ]
    }
   ],
   "execution_count": 26
  },
  {
   "metadata": {
    "ExecuteTime": {
     "end_time": "2024-04-07T15:52:39.138158Z",
     "start_time": "2024-04-07T15:52:39.030799Z"
    }
   },
   "cell_type": "code",
   "source": "model.load_weights(\"model_weights.h5\")",
   "id": "1a01d6e4c59debd3",
   "outputs": [],
   "execution_count": 27
  },
  {
   "metadata": {
    "ExecuteTime": {
     "end_time": "2024-04-07T15:52:39.153632Z",
     "start_time": "2024-04-07T15:52:39.139235Z"
    }
   },
   "cell_type": "code",
   "source": [
    "def preprocess_image(image_path, target_size=(224, 224)):\n",
    "    image = Image.open(image_path)\n",
    "    image = image.resize(target_size)\n",
    "    image_array = np.array(image) / 255.0  # Normalize pixel values\n",
    "    return image_array"
   ],
   "id": "c49090b6062b4d7f",
   "outputs": [],
   "execution_count": 28
  },
  {
   "metadata": {
    "ExecuteTime": {
     "end_time": "2024-04-07T15:52:39.382183Z",
     "start_time": "2024-04-07T15:52:39.155635Z"
    }
   },
   "cell_type": "code",
   "source": [
    "data_dir = 'Brain Tumor Data Set/Brain Tumor Data Set/Brain Tumor/Cancer (8).jpg'\n",
    "preprocessed_image = preprocess_image(data_dir)\n",
    "preprocessed_image = preprocessed_image.reshape(1, 224, 224, 3)\n",
    "prediction = model.predict(preprocessed_image)"
   ],
   "id": "7b164e159e7e46bb",
   "outputs": [
    {
     "name": "stdout",
     "output_type": "stream",
     "text": [
      "WARNING:tensorflow:5 out of the last 5 calls to <function Model.make_predict_function.<locals>.predict_function at 0x0000020A26524820> triggered tf.function retracing. Tracing is expensive and the excessive number of tracings could be due to (1) creating @tf.function repeatedly in a loop, (2) passing tensors with different shapes, (3) passing Python objects instead of tensors. For (1), please define your @tf.function outside of the loop. For (2), @tf.function has reduce_retracing=True option that can avoid unnecessary retracing. For (3), please refer to https://www.tensorflow.org/guide/function#controlling_retracing and https://www.tensorflow.org/api_docs/python/tf/function for  more details.\n",
      "1/1 [==============================] - 0s 184ms/step\n"
     ]
    }
   ],
   "execution_count": 29
  },
  {
   "metadata": {
    "ExecuteTime": {
     "end_time": "2024-04-07T15:52:39.397855Z",
     "start_time": "2024-04-07T15:52:39.383185Z"
    }
   },
   "cell_type": "code",
   "source": [
    "predicted_probability = prediction[0][0] * 100\n",
    "\n",
    "print(\"'0' is the label for Brain Tumor and '1' for Healthy\")\n",
    "print(f\"Model's label: {prediction[0][0]:.2f}/1.0\")\n",
    "\n",
    "if prediction[0][0] > 0.5:\n",
    "    print(\"Model prediction: Tumor detected\")\n",
    "else:\n",
    "    print(\"Model prediction: No tumor detected\")"
   ],
   "id": "e575a070966bf505",
   "outputs": [
    {
     "name": "stdout",
     "output_type": "stream",
     "text": [
      "'0' is the label for Brain Tumor and '1' for Healthy\n",
      "Model's label: 0.24/1.0\n",
      "Model prediction: No tumor detected\n"
     ]
    }
   ],
   "execution_count": 30
  }
 ],
 "metadata": {
  "kernelspec": {
   "display_name": "Python 3",
   "language": "python",
   "name": "python3"
  },
  "language_info": {
   "codemirror_mode": {
    "name": "ipython",
    "version": 2
   },
   "file_extension": ".py",
   "mimetype": "text/x-python",
   "name": "python",
   "nbconvert_exporter": "python",
   "pygments_lexer": "ipython2",
   "version": "2.7.6"
  }
 },
 "nbformat": 4,
 "nbformat_minor": 5
}
